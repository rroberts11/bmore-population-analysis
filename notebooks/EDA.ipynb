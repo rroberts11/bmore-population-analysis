{
 "cells": [
  {
   "cell_type": "code",
   "execution_count": 3,
   "metadata": {},
   "outputs": [
    {
     "name": "stdout",
     "output_type": "stream",
     "text": [
      "\u001b[33mDEPRECATION: Configuring installation scheme with distutils config files is deprecated and will no longer work in the near future. If you are using a Homebrew or Linuxbrew Python, please see discussion at https://github.com/Homebrew/homebrew-core/issues/76621\u001b[0m\u001b[33m\n",
      "\u001b[0mRequirement already satisfied: plotly in /usr/local/lib/python3.9/site-packages (5.24.1)\n",
      "Requirement already satisfied: tenacity>=6.2.0 in /usr/local/lib/python3.9/site-packages (from plotly) (9.0.0)\n",
      "Requirement already satisfied: packaging in /usr/local/lib/python3.9/site-packages (from plotly) (21.3)\n",
      "Requirement already satisfied: pyparsing!=3.0.5,>=2.0.2 in /usr/local/lib/python3.9/site-packages (from packaging->plotly) (3.0.1)\n",
      "\u001b[33mDEPRECATION: Configuring installation scheme with distutils config files is deprecated and will no longer work in the near future. If you are using a Homebrew or Linuxbrew Python, please see discussion at https://github.com/Homebrew/homebrew-core/issues/76621\u001b[0m\u001b[33m\n",
      "\u001b[0m\u001b[33mWARNING: There was an error checking the latest version of pip.\u001b[0m\u001b[33m\n",
      "\u001b[0m"
     ]
    }
   ],
   "source": [
    "!pip install plotly"
   ]
  },
  {
   "cell_type": "code",
   "execution_count": 2,
   "metadata": {},
   "outputs": [
    {
     "ename": "ModuleNotFoundError",
     "evalue": "No module named 'plotly'",
     "output_type": "error",
     "traceback": [
      "\u001b[0;31m---------------------------------------------------------------------------\u001b[0m",
      "\u001b[0;31mModuleNotFoundError\u001b[0m                       Traceback (most recent call last)",
      "Cell \u001b[0;32mIn[2], line 4\u001b[0m\n\u001b[1;32m      1\u001b[0m \u001b[38;5;28;01mimport\u001b[39;00m \u001b[38;5;21;01mpandas\u001b[39;00m \u001b[38;5;28;01mas\u001b[39;00m \u001b[38;5;21;01mpd\u001b[39;00m\n\u001b[1;32m      2\u001b[0m \u001b[38;5;28;01mimport\u001b[39;00m \u001b[38;5;21;01mnumpy\u001b[39;00m \u001b[38;5;28;01mas\u001b[39;00m \u001b[38;5;21;01mnp\u001b[39;00m\n\u001b[0;32m----> 4\u001b[0m \u001b[38;5;28;01mimport\u001b[39;00m \u001b[38;5;21;01mplotly\u001b[39;00m\u001b[38;5;21;01m.\u001b[39;00m\u001b[38;5;21;01mexpress\u001b[39;00m \u001b[38;5;28;01mas\u001b[39;00m \u001b[38;5;21;01mpx\u001b[39;00m\n",
      "\u001b[0;31mModuleNotFoundError\u001b[0m: No module named 'plotly'"
     ]
    }
   ],
   "source": [
    "import pandas as pd\n",
    "import numpy as np\n",
    "\n",
    "import plotly.express as px"
   ]
  },
  {
   "cell_type": "code",
   "execution_count": 25,
   "metadata": {},
   "outputs": [],
   "source": [
    "# import dataset \n",
    "bmore_pop_data = pd.read_csv('../baltimore_population_2000_2023.csv')"
   ]
  },
  {
   "cell_type": "markdown",
   "metadata": {},
   "source": []
  },
  {
   "cell_type": "code",
   "execution_count": 26,
   "metadata": {},
   "outputs": [
    {
     "data": {
      "text/plain": [
       "<bound method DataFrame.info of     Year Population Year on Year Change Change in Percent\n",
       "0   2000    648,746                   -                 -\n",
       "1   2001    638,700             -10,046            -1.55%\n",
       "2   2002    630,367              -8,333            -1.30%\n",
       "3   2003    623,567              -6,800            -1.08%\n",
       "4   2004    614,564              -9,003            -1.44%\n",
       "5   2005    610,068              -4,496            -0.73%\n",
       "6   2006    607,864              -2,204            -0.36%\n",
       "7   2007    606,006              -1,858            -0.31%\n",
       "8   2008    603,758              -2,248            -0.37%\n",
       "9   2009    601,984              -1,774            -0.29%\n",
       "10  2010    620,942              18,958             3.15%\n",
       "11  2011    620,493                -449            -0.07%\n",
       "12  2012    623,035               2,542             0.41%\n",
       "13  2013    622,591                -444            -0.07%\n",
       "14  2014    623,833               1,242             0.20%\n",
       "15  2015    622,831              -1,002            -0.16%\n",
       "16  2016    616,542              -6,289            -1.01%\n",
       "17  2017    610,853              -5,689            -0.92%\n",
       "18  2018    603,241              -7,612            -1.25%\n",
       "19  2019    594,601              -8,640            -1.43%\n",
       "20  2020    583,157             -11,444            -1.92%\n",
       "21  2021    576,578              -6,579            -1.13%\n",
       "22  2022    569,107              -7,471            -1.30%\n",
       "23  2023    565,239              -3,868            -0.68%>"
      ]
     },
     "execution_count": 26,
     "metadata": {},
     "output_type": "execute_result"
    }
   ],
   "source": [
    "# check the info in the datasets \n",
    "bmore_pop_data.info"
   ]
  },
  {
   "cell_type": "code",
   "execution_count": 27,
   "metadata": {},
   "outputs": [
    {
     "data": {
      "text/plain": [
       "Year                    int64\n",
       "Population             object\n",
       "Year on Year Change    object\n",
       "Change in Percent      object\n",
       "dtype: object"
      ]
     },
     "execution_count": 27,
     "metadata": {},
     "output_type": "execute_result"
    }
   ],
   "source": [
    "# Check data types of columns\n",
    "bmore_pop_data.dtypes"
   ]
  },
  {
   "cell_type": "code",
   "execution_count": 35,
   "metadata": {},
   "outputs": [
    {
     "data": {
      "text/plain": [
       "0"
      ]
     },
     "execution_count": 35,
     "metadata": {},
     "output_type": "execute_result"
    }
   ],
   "source": [
    "# Check for duplicates in the dataset\n",
    "bmore_pop_data.duplicated().sum()"
   ]
  },
  {
   "cell_type": "code",
   "execution_count": 28,
   "metadata": {},
   "outputs": [],
   "source": [
    "# rename columns for referencing \n",
    "\n",
    "bmore_pop_data = bmore_pop_data.rename(columns={\"Year\": \"year\", \n",
    "                                                \"Population\": \"population\", \n",
    "                                                \"Year on Year Change\": \"year_on_year_change\", \n",
    "                                                \"Change in Percent\": \"change_in_percent\"})"
   ]
  },
  {
   "cell_type": "markdown",
   "metadata": {},
   "source": [
    "Changes to Population column\n",
    "\n",
    "* Replace non numerical values and convert column values to numeric values for calculations "
   ]
  },
  {
   "cell_type": "code",
   "execution_count": 29,
   "metadata": {},
   "outputs": [
    {
     "data": {
      "text/plain": [
       "0     648746\n",
       "1     638700\n",
       "2     630367\n",
       "3     623567\n",
       "4     614564\n",
       "5     610068\n",
       "6     607864\n",
       "7     606006\n",
       "8     603758\n",
       "9     601984\n",
       "10    620942\n",
       "11    620493\n",
       "12    623035\n",
       "13    622591\n",
       "14    623833\n",
       "15    622831\n",
       "16    616542\n",
       "17    610853\n",
       "18    603241\n",
       "19    594601\n",
       "20    583157\n",
       "21    576578\n",
       "22    569107\n",
       "23    565239\n",
       "Name: population, dtype: int64"
      ]
     },
     "execution_count": 29,
     "metadata": {},
     "output_type": "execute_result"
    }
   ],
   "source": [
    "# remove commas from pop values so they can be converted from objs to ints\n",
    "bmore_pop_data['population'] = bmore_pop_data['population'].str.replace(',', '')\n",
    "\n",
    "# convert population values to integer values \n",
    "bmore_pop_data['population'] = bmore_pop_data['population'].astype('int')\n",
    "\n",
    "bmore_pop_data['population']"
   ]
  },
  {
   "cell_type": "markdown",
   "metadata": {},
   "source": [
    "Changes to Year change column\n",
    "\n",
    "* Replace non numerical values and convert column values to numeric values for calculations "
   ]
  },
  {
   "cell_type": "code",
   "execution_count": 30,
   "metadata": {},
   "outputs": [
    {
     "data": {
      "text/plain": [
       "0         0\n",
       "1    -10046\n",
       "2     -8333\n",
       "3     -6800\n",
       "4     -9003\n",
       "5     -4496\n",
       "6     -2204\n",
       "7     -1858\n",
       "8     -2248\n",
       "9     -1774\n",
       "10    18958\n",
       "11     -449\n",
       "12     2542\n",
       "13     -444\n",
       "14     1242\n",
       "15    -1002\n",
       "16    -6289\n",
       "17    -5689\n",
       "18    -7612\n",
       "19    -8640\n",
       "20   -11444\n",
       "21    -6579\n",
       "22    -7471\n",
       "23    -3868\n",
       "Name: year_on_year_change, dtype: int64"
      ]
     },
     "execution_count": 30,
     "metadata": {},
     "output_type": "execute_result"
    }
   ],
   "source": [
    "# remove \"-\" from first row \n",
    "bmore_pop_data['year_on_year_change'] = bmore_pop_data['year_on_year_change'].replace('-', \"0\")\n",
    "\n",
    "# remove commas from pop values so they can be converted from objs to ints\n",
    "bmore_pop_data['year_on_year_change'] = bmore_pop_data['year_on_year_change'].str.replace(',', '')\n",
    "\n",
    "# convert population values to integer values \n",
    "bmore_pop_data['year_on_year_change'] = bmore_pop_data['year_on_year_change'].astype('int')\n",
    "\n",
    "bmore_pop_data['year_on_year_change']"
   ]
  },
  {
   "cell_type": "markdown",
   "metadata": {},
   "source": [
    "Changes to Percent change column\n",
    "\n",
    "* Replace non numerical values and convert column values to numeric values for calculations \n",
    "* convert to percentages to floats and then to decimal form "
   ]
  },
  {
   "cell_type": "code",
   "execution_count": 33,
   "metadata": {},
   "outputs": [
    {
     "data": {
      "text/plain": [
       "0     0.0000\n",
       "1    -0.0155\n",
       "2    -0.0130\n",
       "3    -0.0108\n",
       "4    -0.0144\n",
       "5    -0.0073\n",
       "6    -0.0036\n",
       "7    -0.0031\n",
       "8    -0.0037\n",
       "9    -0.0029\n",
       "10    0.0315\n",
       "11   -0.0007\n",
       "12    0.0041\n",
       "13   -0.0007\n",
       "14    0.0020\n",
       "15   -0.0016\n",
       "16   -0.0101\n",
       "17   -0.0092\n",
       "18   -0.0125\n",
       "19   -0.0143\n",
       "20   -0.0192\n",
       "21   -0.0113\n",
       "22   -0.0130\n",
       "23   -0.0068\n",
       "Name: change_in_percent, dtype: float64"
      ]
     },
     "execution_count": 33,
     "metadata": {},
     "output_type": "execute_result"
    }
   ],
   "source": [
    "# remove \"-\" from first row \n",
    "bmore_pop_data['change_in_percent'] = bmore_pop_data['change_in_percent'].replace('-', \"0\")\n",
    "\n",
    "# Remove the '%' symbol\n",
    "bmore_pop_data['change_in_percent'] = bmore_pop_data['change_in_percent'].str.replace('%', '')\n",
    "\n",
    "# Convert to float and divide by 100 to get the decimal representation\n",
    "bmore_pop_data['change_in_percent'] = bmore_pop_data['change_in_percent'].astype(float) / 100\n",
    "\n",
    "bmore_pop_data['change_in_percent']"
   ]
  },
  {
   "cell_type": "code",
   "execution_count": null,
   "metadata": {},
   "outputs": [],
   "source": []
  }
 ],
 "metadata": {
  "kernelspec": {
   "display_name": "Python 3",
   "language": "python",
   "name": "python3"
  },
  "language_info": {
   "codemirror_mode": {
    "name": "ipython",
    "version": 3
   },
   "file_extension": ".py",
   "mimetype": "text/x-python",
   "name": "python",
   "nbconvert_exporter": "python",
   "pygments_lexer": "ipython3",
   "version": "3.11.6"
  }
 },
 "nbformat": 4,
 "nbformat_minor": 2
}
